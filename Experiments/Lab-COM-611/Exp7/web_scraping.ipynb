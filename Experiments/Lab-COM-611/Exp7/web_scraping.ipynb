{
  "nbformat": 4,
  "nbformat_minor": 0,
  "metadata": {
    "colab": {
      "provenance": []
    },
    "kernelspec": {
      "name": "python3",
      "display_name": "Python 3"
    },
    "language_info": {
      "name": "python"
    }
  },
  "cells": [
    {
      "cell_type": "code",
      "execution_count": null,
      "metadata": {
        "colab": {
          "base_uri": "https://localhost:8080/"
        },
        "id": "9zzGLJXoHE_R",
        "outputId": "890d5045-2d2e-420e-eea9-d0845731b1de"
      },
      "outputs": [
        {
          "output_type": "stream",
          "name": "stdout",
          "text": [
            "Requirement already satisfied: beautifulsoup4 in /usr/local/lib/python3.11/dist-packages (4.13.4)\n",
            "Requirement already satisfied: requests in /usr/local/lib/python3.11/dist-packages (2.32.3)\n",
            "Requirement already satisfied: soupsieve>1.2 in /usr/local/lib/python3.11/dist-packages (from beautifulsoup4) (2.7)\n",
            "Requirement already satisfied: typing-extensions>=4.0.0 in /usr/local/lib/python3.11/dist-packages (from beautifulsoup4) (4.13.2)\n",
            "Requirement already satisfied: charset-normalizer<4,>=2 in /usr/local/lib/python3.11/dist-packages (from requests) (3.4.1)\n",
            "Requirement already satisfied: idna<4,>=2.5 in /usr/local/lib/python3.11/dist-packages (from requests) (3.10)\n",
            "Requirement already satisfied: urllib3<3,>=1.21.1 in /usr/local/lib/python3.11/dist-packages (from requests) (2.3.0)\n",
            "Requirement already satisfied: certifi>=2017.4.17 in /usr/local/lib/python3.11/dist-packages (from requests) (2025.1.31)\n"
          ]
        }
      ],
      "source": [
        "pip install beautifulsoup4 requests"
      ]
    },
    {
      "cell_type": "code",
      "source": [
        "from bs4 import BeautifulSoup\n",
        "import requests\n",
        "\n",
        "# Function to extract Product Title\n",
        "def get_title(soup):\n",
        "    try:\n",
        "        title = soup.find(\"span\", attrs={\"id\": \"productTitle\"})\n",
        "        title_string = title.get_text(strip=True)\n",
        "    except AttributeError:\n",
        "        title_string = \"\"\n",
        "    return title_string\n",
        "\n",
        "# Function to extract Product Price\n",
        "def get_price(soup):\n",
        "    try:\n",
        "        price = soup.find(\"span\", attrs={\"class\": \"a-offscreen\"})\n",
        "        if price is not None:\n",
        "            price_string = price.get_text(strip=True)\n",
        "        else:\n",
        "            price_string = \"\"\n",
        "    except AttributeError:\n",
        "        price_string = \"\"\n",
        "    return price_string\n",
        "\n",
        "# Function to extract Product Rating\n",
        "def get_rating(soup):\n",
        "    try:\n",
        "        rating = soup.find(\"span\", attrs={\"class\": \"a-icon-alt\"})\n",
        "        if rating is not None:\n",
        "            rating_string = rating.get_text(strip=True)\n",
        "        else:\n",
        "            rating_string = \"\"\n",
        "    except AttributeError:\n",
        "        rating_string = \"\"\n",
        "    return rating_string\n",
        "\n",
        "# Function to extract number of user reviews\n",
        "def get_review_count(soup):\n",
        "    try:\n",
        "        review = soup.find(\"span\", attrs={\"id\": \"acrCustomerReviewText\"})\n",
        "        if review is not None:\n",
        "            review_count_string = review.get_text(strip=True)\n",
        "        else:\n",
        "            review_count_string = \"\"\n",
        "    except AttributeError:\n",
        "        review_count_string = \"\"\n",
        "    return review_count_string\n",
        "\n",
        "# Function to extract Availability status\n",
        "def get_availability(soup):\n",
        "    try:\n",
        "        availability = soup.find(\"div\", attrs={\"id\": \"availability\"})\n",
        "        if availability is not None:\n",
        "            availability_string = availability.get_text(strip=True)\n",
        "        else:\n",
        "            availability_string = \"\"\n",
        "    except AttributeError:\n",
        "        availability_string = \"\"\n",
        "    return availability_string\n",
        "\n",
        "if __name__ == \"__main__\":\n",
        "    # headers for request\n",
        "    headers = {\n",
        "        \"User-Agent\": \"Mozilla/5.0 (X11; Linux x86_64) AppleWebKit/537.36 (KHTML, like Gecko) Chrome/58.0.3029.110 Safari/537.36\",\n",
        "        \"Accept-Language\": \"en-US, en;q=0.5\"\n",
        "    }\n",
        "    url = \"https://www.amazon.in/Bergmann-Stunner-Vacuum-Cleaner-Black/dp/B07HDXYKHL/ref=sr_1_11?\"\n",
        "    webpage = requests.get(url, headers=headers)\n",
        "    soup = BeautifulSoup(webpage.content, \"html.parser\")\n",
        "\n",
        "    print(\"Product Title =\", get_title(soup))\n",
        "    print(\"Product Price =\", get_price(soup))\n",
        "    print(\"Product Rating =\", get_rating(soup))\n",
        "    print(\"Number of Product Reviews =\", get_review_count(soup))\n",
        "    print(\"Availability =\", get_availability(soup))\n"
      ],
      "metadata": {
        "colab": {
          "base_uri": "https://localhost:8080/"
        },
        "id": "syNYgxIwIJmB",
        "outputId": "df86b7e3-cad9-4c57-896f-c864017f2ef3"
      },
      "execution_count": null,
      "outputs": [
        {
          "output_type": "stream",
          "name": "stdout",
          "text": [
            "Product Title = Bergmann Stunner Car Vacuum Cleaner|150W Powerful Suction|Stainless Steel Lifelong Hepa Filter|Sleek Mirror Finish Body|100% Copper Motor|5M Power Cord|3 Attachments + Storage Bag|Black,2.5 Liter\n",
            "Product Price = ₹1,599.00\n",
            "Product Rating = 3.8 out of 5 stars\n",
            "Number of Product Reviews = 7,196 ratings\n",
            "Availability = In stock\n"
          ]
        }
      ]
    },
    {
      "cell_type": "code",
      "source": [],
      "metadata": {
        "id": "4qS1Clo7PMCf"
      },
      "execution_count": null,
      "outputs": []
    }
  ]
}