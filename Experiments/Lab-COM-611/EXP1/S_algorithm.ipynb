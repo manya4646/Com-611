{
  "cells": [
    {
      "cell_type": "code",
      "execution_count": 1,
      "metadata": {
        "colab": {
          "base_uri": "https://localhost:8080/"
        },
        "id": "FF8tzmrCfZjI",
        "outputId": "46ec4ebf-a7ad-499e-c19e-4805bc2046f2"
      },
      "outputs": [
        {
          "name": "stdout",
          "output_type": "stream",
          "text": [
            "The Given Training Data Set \n",
            "\n",
            "['Sunny', 'Warm', 'Normal', 'Strong', 'Warm', 'Same', 'Yes']\n",
            "['Sunny', 'Warm', 'High', 'Strong', 'Warm', 'Same', 'Yes']\n",
            "['Rainy', 'Cold', 'High', 'Strong', 'Warm', 'Change', 'No']\n",
            "['Sunny', 'Warm', 'High', 'Strong', 'Cool', 'Change', 'Yes']\n"
          ]
        }
      ],
      "source": [
        "import csv\n",
        "num_att=6\n",
        "a=[]\n",
        "print(\"The Given Training Data Set \\n\")\n",
        "with open(r\"ws.csv\") as csvfile:\n",
        "  reader=csv.reader(csvfile)\n",
        "  for row in reader:\n",
        "    a.append(row)\n",
        "    print(row)\n"
      ]
    },
    {
      "cell_type": "code",
      "execution_count": 2,
      "metadata": {
        "colab": {
          "base_uri": "https://localhost:8080/"
        },
        "id": "m4N9bj6Chk0W",
        "outputId": "4f5ed738-d29b-4060-9437-9dc276d0641c"
      },
      "outputs": [
        {
          "name": "stdout",
          "output_type": "stream",
          "text": [
            "The initial value of Hypothesis: \n",
            "['0', '0', '0', '0', '0', '0']\n"
          ]
        }
      ],
      "source": [
        "print(\"The initial value of Hypothesis: \")\n",
        "hypothesis=['0']*num_att\n",
        "print(hypothesis)\n",
        "\n",
        "for j in range(0,num_att):\n",
        "  hypothesis[j] = a[0][1]"
      ]
    },
    {
      "cell_type": "code",
      "execution_count": 3,
      "metadata": {
        "colab": {
          "base_uri": "https://localhost:8080/"
        },
        "id": "WjxRVEoehlOJ",
        "outputId": "3934a188-e104-4a3a-cbd2-7d25b6c58b26"
      },
      "outputs": [
        {
          "name": "stdout",
          "output_type": "stream",
          "text": [
            "Find S: Finding a Maximally Specific Hypothesis \n",
            " \n",
            "For Training Instance No:0 \n",
            "The Hypothesis Is ['?', 'Warm', '?', '?', 'Warm', '?']\n",
            "For Training Instance No:1 \n",
            "The Hypothesis Is ['?', 'Warm', '?', '?', 'Warm', '?']\n",
            "For Training Instance No:3 \n",
            "The Hypothesis Is ['?', 'Warm', '?', '?', '?', '?']\n",
            "The Maximally Specific Hypothesis Is: \n",
            "\n",
            "['?', 'Warm', '?', '?', '?', '?']\n"
          ]
        }
      ],
      "source": [
        "print(\"Find S: Finding a Maximally Specific Hypothesis \\n \")\n",
        "\n",
        "\n",
        "for i in range(0,len(a)):\n",
        "  if a[i][num_att]=='Yes':\n",
        "    for j in range(0,num_att):\n",
        "        if a[i][j]!=hypothesis[j]:\n",
        "                hypothesis[j]='?'\n",
        "        else:\n",
        "                hypothesis[j]=a[i][j]\n",
        "    print(\"For Training Instance No:{0} \\nThe Hypothesis Is\".format(i),hypothesis)\n",
        "\n",
        "print(\"The Maximally Specific Hypothesis Is: \\n\")\n",
        "print(hypothesis)"
      ]
    }
  ],
  "metadata": {
    "colab": {
      "provenance": []
    },
    "kernelspec": {
      "display_name": "Python 3",
      "name": "python3"
    },
    "language_info": {
      "name": "python"
    }
  },
  "nbformat": 4,
  "nbformat_minor": 0
}
